{
 "cells": [
  {
   "cell_type": "code",
   "execution_count": 1,
   "metadata": {},
   "outputs": [
    {
     "name": "stdout",
     "output_type": "stream",
     "text": [
      "Created List: [1, 2, 3, 4, 5]\n",
      "Created Dictionary: {'name': 'Alice', 'age': 25, 'city': 'New York'}\n",
      "Created Set: {1, 2, 3, 4, 5}\n"
     ]
    }
   ],
   "source": [
    "\n",
    "# Creating a List\n",
    "my_list = [1, 2, 3, 4, 5]\n",
    "\n",
    "# Creating a Dictionary\n",
    "my_dict = {\"name\": \"Alice\", \"age\": 25, \"city\": \"New York\"}\n",
    "\n",
    "# Creating a Set\n",
    "my_set = {1, 2, 3, 4, 5}\n",
    "\n",
    "print(\"Created List:\", my_list)\n",
    "print(\"Created Dictionary:\", my_dict)\n",
    "print(\"Created Set:\", my_set)\n"
   ]
  },
  {
   "cell_type": "code",
   "execution_count": 2,
   "metadata": {},
   "outputs": [
    {
     "name": "stdout",
     "output_type": "stream",
     "text": [
      "List after adding an element: [1, 2, 3, 4, 5, 6]\n",
      "List after removing an element: [1, 2, 4, 5, 6]\n",
      "List after modifying an element: [10, 2, 4, 5, 6]\n"
     ]
    }
   ],
   "source": [
    "\n",
    "# Adding an element to the list\n",
    "my_list.append(6)\n",
    "print(\"List after adding an element:\", my_list)\n",
    "\n",
    "# Removing an element from the list\n",
    "my_list.remove(3)\n",
    "print(\"List after removing an element:\", my_list)\n",
    "\n",
    "# Modifying an element in the list\n",
    "my_list[0] = 10\n",
    "print(\"List after modifying an element:\", my_list)\n"
   ]
  },
  {
   "cell_type": "code",
   "execution_count": 3,
   "metadata": {},
   "outputs": [
    {
     "name": "stdout",
     "output_type": "stream",
     "text": [
      "Dictionary after adding an element: {'name': 'Alice', 'age': 25, 'city': 'New York', 'profession': 'Engineer'}\n",
      "Dictionary after removing an element: {'name': 'Alice', 'city': 'New York', 'profession': 'Engineer'}\n",
      "Dictionary after modifying an element: {'name': 'Alice', 'city': 'San Francisco', 'profession': 'Engineer'}\n"
     ]
    }
   ],
   "source": [
    "# Adding a new key-value pair\n",
    "my_dict[\"profession\"] = \"Engineer\"\n",
    "print(\"Dictionary after adding an element:\", my_dict)\n",
    "\n",
    "# Removing a key-value pair\n",
    "del my_dict[\"age\"]\n",
    "print(\"Dictionary after removing an element:\", my_dict)\n",
    "\n",
    "# Modifying an existing key-value pair\n",
    "my_dict[\"city\"] = \"San Francisco\"\n",
    "print(\"Dictionary after modifying an element:\", my_dict)\n"
   ]
  },
  {
   "cell_type": "code",
   "execution_count": 4,
   "metadata": {},
   "outputs": [
    {
     "name": "stdout",
     "output_type": "stream",
     "text": [
      "Set after adding an element: {1, 2, 3, 4, 5, 6}\n",
      "Set after removing an element: {1, 3, 4, 5, 6}\n",
      "Set after 'modifying' (removing and adding) an element: {1, 3, 5, 6, 7}\n"
     ]
    }
   ],
   "source": [
    "# Adding an element to the set\n",
    "my_set.add(6)\n",
    "print(\"Set after adding an element:\", my_set)\n",
    "\n",
    "# Removing an element from the set\n",
    "my_set.discard(2)\n",
    "print(\"Set after removing an element:\", my_set)\n",
    "\n",
    "# Instead, we remove an element and add a new one if modification is needed.\n",
    "my_set.discard(4)\n",
    "my_set.add(7)\n",
    "print(\"Set after 'modifying' (removing and adding) an element:\", my_set)\n"
   ]
  },
  {
   "cell_type": "code",
   "execution_count": null,
   "metadata": {},
   "outputs": [],
   "source": []
  }
 ],
 "metadata": {
  "kernelspec": {
   "display_name": "Python 3",
   "language": "python",
   "name": "python3"
  },
  "language_info": {
   "codemirror_mode": {
    "name": "ipython",
    "version": 3
   },
   "file_extension": ".py",
   "mimetype": "text/x-python",
   "name": "python",
   "nbconvert_exporter": "python",
   "pygments_lexer": "ipython3",
   "version": "3.12.3"
  }
 },
 "nbformat": 4,
 "nbformat_minor": 2
}
